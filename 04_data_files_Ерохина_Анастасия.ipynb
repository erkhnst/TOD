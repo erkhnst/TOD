{
 "cells": [
  {
   "cell_type": "markdown",
   "metadata": {},
   "source": [
    "# Форматы данных (1)"
   ]
  },
  {
   "cell_type": "markdown",
   "metadata": {},
   "source": [
    "Материалы:\n",
    "* Макрушин С.В. \"Лекция 4: Форматы данных\"\n",
    "* https://docs.python.org/3/library/json.html\n",
    "* https://docs.python.org/3/library/pickle.html\n",
    "* https://www.crummy.com/software/BeautifulSoup/bs4/doc.ru/bs4ru.html\n",
    "* Уэс Маккини. Python и анализ данных"
   ]
  },
  {
   "cell_type": "markdown",
   "metadata": {},
   "source": [
    "## Задачи для совместного разбора"
   ]
  },
  {
   "cell_type": "markdown",
   "metadata": {},
   "source": [
    "1. Вывести все адреса электронной почты, содержащиеся в адресной книге `addres-book.json`"
   ]
  },
  {
   "cell_type": "markdown",
   "metadata": {},
   "source": [
    "2. Вывести телефоны, содержащиеся в адресной книге `addres-book.json`"
   ]
  },
  {
   "cell_type": "markdown",
   "metadata": {},
   "source": [
    "3. По данным из файла `addres-book-q.xml` сформировать список словарей с телефонами каждого из людей. "
   ]
  },
  {
   "cell_type": "markdown",
   "metadata": {},
   "source": [
    "## Лабораторная работа №4"
   ]
  },
  {
   "cell_type": "markdown",
   "metadata": {},
   "source": [
    "### JSON"
   ]
  },
  {
   "cell_type": "markdown",
   "metadata": {},
   "source": [
    "1.1 Считайте файл `contributors_sample.json`. Воспользовавшись модулем `json`, преобразуйте содержимое файла в соответствующие объекты python. Выведите на экран информацию о первых 3 пользователях."
   ]
  },
  {
   "cell_type": "code",
   "execution_count": null,
   "metadata": {},
   "outputs": [],
   "source": [
    "import pickle\n",
    "import json\n",
    "import pandas as pd\n",
    "import os\n",
    "import numpy as np\n",
    "with open('contributors_sample.json', 'r', encoding='UTF-8') as f:\n",
    "    file = json.load(f)\n",
    "print(file[0]['username'])\n",
    "print(file[:5])"
   ]
  },
  {
   "cell_type": "markdown",
   "metadata": {},
   "source": [
    "1.2 Выведите уникальные почтовые домены, содержащиеся в почтовых адресах людей"
   ]
  },
  {
   "cell_type": "code",
   "execution_count": null,
   "metadata": {},
   "outputs": [],
   "source": [
    "mail = list()\n",
    "dom = list()\n",
    "for k in range(0, len(file)):\n",
    "    if not (file[k]['mail'] in mail):\n",
    "        mail.append(file[k]['mail'])\n",
    "for k in mail:\n",
    "    s = k.split('@')\n",
    "    s = '@' + s[1]\n",
    "    if not (s in dom):\n",
    "        dom.append(s)\n",
    "print(dom)"
   ]
  },
  {
   "cell_type": "markdown",
   "metadata": {},
   "source": [
    "1.3 Напишите функцию, которая по `username` ищет человека и выводит информацию о нем. Если пользователь с заданным `username` отсутствует, возбудите исключение `ValueError`"
   ]
  },
  {
   "cell_type": "code",
   "execution_count": null,
   "metadata": {},
   "outputs": [],
   "source": [
    "def search_by_username(username):\n",
    "    try:\n",
    "        for kl in file:\n",
    "            for k, l in kl.items():\n",
    "                if k == 'username' and l == username:\n",
    "                    print(kl)\n",
    "    except ValueError:\n",
    "        print('Username отсутствует')\n",
    "print(search_by_username('uhebert'))"
   ]
  },
  {
   "cell_type": "markdown",
   "metadata": {},
   "source": [
    "1.4 Посчитайте, сколько мужчин и женщин присутсвует в этом наборе данных."
   ]
  },
  {
   "cell_type": "code",
   "execution_count": null,
   "metadata": {},
   "outputs": [],
   "source": [
    "count_f = 0\n",
    "count_m = 0\n",
    "for k in file:\n",
    "    for j, q in k.items():\n",
    "        if j == 'sex' and q == 'F':\n",
    "            count_f += 1\n",
    "        elif j == 'sex' and q == 'M':\n",
    "            count_m += 1\n",
    "print(f'Женщин {count_f}, мужчин {count_m}')"
   ]
  },
  {
   "cell_type": "markdown",
   "metadata": {},
   "source": [
    "1.5 Создайте `pd.DataFrame` `contributors`, имеющий столбцы `id`, `username` и `sex`."
   ]
  },
  {
   "cell_type": "code",
   "execution_count": null,
   "metadata": {},
   "outputs": [],
   "source": [
    "file1 = pd.DataFrame(file)\n",
    "file1 = file1[['id', 'username', 'sex']]\n",
    "print(file1)"
   ]
  },
  {
   "cell_type": "markdown",
   "metadata": {},
   "source": [
    "1.6 Загрузите данные из файла `recipes_sample.csv` (__ЛР2__) в таблицу `recipes`. Объедините `recipes` с таблицей `contributors` с сохранением строк в том случае, если информация о человеке отсутствует в JSON-файле. Для скольких человек информация отсутствует? "
   ]
  },
  {
   "cell_type": "code",
   "execution_count": null,
   "metadata": {},
   "outputs": [],
   "source": [
    "file3 = pd.read_csv('recipes_sample.csv')\n",
    "file4 = pd.read_json('contributors_sample.json')\n",
    "count = 0\n",
    "for k in range(0, len(file4)):\n",
    "    if file3['id'][k] == file4['id'][k]:\n",
    "        count += 1\n",
    "    else:\n",
    "        file4.loc[len(file4.index)] = file3.iloc[k]\n",
    "print(len(file3) - count, file4)"
   ]
  },
  {
   "cell_type": "markdown",
   "metadata": {},
   "source": [
    "### pickle"
   ]
  },
  {
   "cell_type": "markdown",
   "metadata": {},
   "source": [
    "2.1 На основе файла `contributors_sample.json` создайте словарь следующего вида: \n",
    "```\n",
    "{\n",
    "    должность: [список username людей, занимавших эту должность]\n",
    "}\n",
    "```"
   ]
  },
  {
   "cell_type": "code",
   "execution_count": null,
   "metadata": {},
   "outputs": [],
   "source": [
    "jobs_s = []\n",
    "lst = []\n",
    "with open('contributors_sample.json') as f:\n",
    "    contributors_s = json.load(f)\n",
    "contributors_cpy = contributors_s.copy()\n",
    "jobs = np.array(contributors_s['jobs'])\n",
    "name = np.array(contributors_s['username'])\n",
    "for i in jobs:\n",
    "    jobs_s+=i\n",
    "jobs_u = np.unique(jobs_s)\n",
    "for i in jobs_u:\n",
    "    for j in range(contributors_s.shape[0]):\n",
    "        if i in contributors_s['jobs'][j]:\n",
    "            lst.append([i,contributors_s['username'][j]])\n",
    "df_j = pd.DataFrame(lst, columns=['jobs','name'])\n",
    "dct = {i :df_j.loc[df_j['jobs']==i,'name'].tolist()for i in jobs_u}\n",
    "dct"
   ]
  },
  {
   "cell_type": "markdown",
   "metadata": {},
   "source": [
    "2.2 Сохраните результаты в файл `job_people.pickle` и в файл `job_people.json` с использованием форматов pickle и JSON соответственно. Сравните объемы получившихся файлов. При сохранении в JSON укажите аргумент `indent`."
   ]
  },
  {
   "cell_type": "code",
   "execution_count": null,
   "metadata": {},
   "outputs": [],
   "source": [
    "with open('job_people.json', 'w') as f:\n",
    "    json.dump(job_people, f, sort_keys=False, indent=2)\n",
    "with open('job_people.txt', 'wb') as f:\n",
    "    pickle.dump(job_people, f)\n",
    "\n",
    "if os.path.getsize('job_people.txt') > os.path.getsize('job_people.json'):\n",
    "    print('Json больше')\n",
    "else:\n",
    "    print('Pickle больше')"
   ]
  },
  {
   "cell_type": "markdown",
   "metadata": {},
   "source": [
    "2.3 Считайте файл `job_people.pickle` и продемонстрируйте, что данные считались корректно. "
   ]
  },
  {
   "cell_type": "code",
   "execution_count": null,
   "metadata": {},
   "outputs": [],
   "source": [
    "with open('job_people.txt', 'rb') as f:\n",
    "    data = pickle.load(f)\n",
    "    print(data)"
   ]
  },
  {
   "cell_type": "markdown",
   "metadata": {},
   "source": [
    "### XML"
   ]
  },
  {
   "cell_type": "markdown",
   "metadata": {},
   "source": [
    "3.1 По данным файла `steps_sample.xml` сформируйте словарь с шагами по каждому рецепту вида `{id_рецепта: [\"шаг1\", \"шаг2\"]}`. Сохраните этот словарь в файл `steps_sample.json`"
   ]
  },
  {
   "cell_type": "code",
   "execution_count": null,
   "metadata": {},
   "outputs": [],
   "source": [
    "import requests\n",
    "from bs4 import BeautifulSoup\n",
    "with open('steps_sample.xml') as f:\n",
    "    ab_1 = BeautifulSoup(f, 'xml')\n",
    "ids = ab_1.find_all('id')\n",
    "steps = ab_1.find_all('steps')\n",
    "dct_res = {}\n",
    "for i in range(len(ids)):\n",
    "    dct_res[ids[i].getText(strip=True)]=(steps[i].getText(',',strip=True)).split(',')\n",
    "with open(\"steps_sample.json\", \"w\") as f_1:\n",
    "    json.dump(dct_res, f_1)"
   ]
  },
  {
   "cell_type": "markdown",
   "metadata": {},
   "source": [
    "3.2 По данным файла `steps_sample.xml` сформируйте словарь следующего вида: `кол-во_шагов_в_рецепте: [список_id_рецептов]`"
   ]
  },
  {
   "cell_type": "code",
   "execution_count": null,
   "metadata": {},
   "outputs": [],
   "source": [
    "dct_num = {}\n",
    "for j in range(len(steps)):\n",
    "    if (len(steps[j])) not in dct_num:\n",
    "        dct_num[len(steps[j])]=[ids[j].getText(strip=True)]\n",
    "    else:\n",
    "         dct_num[len(steps[j])].append(ids[j].getText(strip=True))\n",
    "dct_num"
   ]
  },
  {
   "cell_type": "markdown",
   "metadata": {},
   "source": [
    "3.3 Получите список рецептов, в этапах выполнения которых есть информация о времени (часы или минуты). Для отбора подходящих рецептов обратите внимание на атрибуты соответствующих тэгов."
   ]
  },
  {
   "cell_type": "code",
   "execution_count": null,
   "metadata": {},
   "outputs": [],
   "source": [
    "recipes = ab_1.find_all('recipe')\n",
    "lst_1 = []\n",
    "for i in recipes:\n",
    "    try:\n",
    "        if i.step[\"has_minutes\"] or i.step[\"has_hours\"]:\n",
    "            lst_1.append(i.id.text)\n",
    "    except:\n",
    "        pass\n",
    "lst_1[:100]"
   ]
  },
  {
   "cell_type": "markdown",
   "metadata": {},
   "source": [
    "3.4 Загрузите данные из файла `recipes_sample.csv` (__ЛР2__) в таблицу `recipes`. Для строк, которые содержат пропуски в столбце `n_steps`, заполните этот столбец на основе файла  `steps_sample.xml`. Строки, в которых столбец `n_steps` заполнен, оставьте без изменений."
   ]
  },
  {
   "cell_type": "code",
   "execution_count": null,
   "metadata": {},
   "outputs": [],
   "source": [
    "d={'id':[],'n_steps':[]}\n",
    "for row in ab_1.find_all('recipe'):\n",
    "    d['id'].append(int(row.id.text))\n",
    "    d['n_steps'].append(len(row.find_all('step')))\n",
    "df=pd.DataFrame(d)\n",
    "df.n_steps=df.n_steps.astype('float64')\n",
    "df\n",
    "\n",
    "recipes=pd.read_csv('recipes_sample.csv')\n",
    "\n",
    "df3_4=pd.merge(recipes,df,on='id')#в столбце n_steps_x указаны данные из таблицы recipes; в n_steps_y кол-во \n",
    "                              #шагов из файла файла steps_sample.xml \n",
    "df3_4['n_steps']=df3_4['n_steps_y']\n",
    "df3_4 = df3_4.drop('n_steps_x',axis=1)\n",
    "df3_4 = df3_4.drop('n_steps_y',axis=1)\n",
    "df3_4"
   ]
  },
  {
   "cell_type": "markdown",
   "metadata": {},
   "source": [
    "3.5 Проверьте, содержит ли столбец `n_steps` пропуски. Если нет, то преобразуйте его к целочисленному типу и сохраните результаты в файл `recipes_sample_with_filled_nsteps.csv`"
   ]
  },
  {
   "cell_type": "code",
   "execution_count": null,
   "metadata": {},
   "outputs": [],
   "source": [
    "print((df3_4[df3_4['n_steps'].isna()==True]).size)\n",
    "df3_4.n_steps = df3_4.n_steps.astype(int)\n",
    "\n",
    "df3_4.to_csv('recipes_sample_with_filled_nsteps.csv', encoding='utf-8')\n",
    "df3_4"
   ]
  }
 ],
 "metadata": {
  "kernelspec": {
   "display_name": "Python 3 (ipykernel)",
   "language": "python",
   "name": "python3"
  },
  "language_info": {
   "codemirror_mode": {
    "name": "ipython",
    "version": 3
   },
   "file_extension": ".py",
   "mimetype": "text/x-python",
   "name": "python",
   "nbconvert_exporter": "python",
   "pygments_lexer": "ipython3",
   "version": "3.9.13"
  }
 },
 "nbformat": 4,
 "nbformat_minor": 4
}
